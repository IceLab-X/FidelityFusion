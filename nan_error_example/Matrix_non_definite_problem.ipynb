{
 "cells": [
  {
   "cell_type": "markdown",
   "metadata": {},
   "source": [
    "# Matrix non definite problem\n",
    "Date: 2024-3-16\n",
    "Author: Zhenjie\n",
    "\n"
   ]
  },
  {
   "cell_type": "markdown",
   "metadata": {},
   "source": [
    "## 1. 问题定义\n",
    "在使用GP库的时候，可能会遇到矩阵非正定的问题，以下是一些可能的解决方法"
   ]
  },
  {
   "cell_type": "markdown",
   "metadata": {},
   "source": [
    "## 2. 解决方法\n",
    "### 2.1 GP的负对数似然计算Sigmma时对角线加上x的均值*JITTER"
   ]
  },
  {
   "cell_type": "code",
   "execution_count": null,
   "metadata": {},
   "outputs": [],
   "source": [
    "import torch\n",
    "JITTER = 1e-6\n",
    "PI = 3.1415\n",
    "def negative_log_likelihood(kernel, log_beta, x_train, y_train):\n",
    "        \n",
    "    ## A scheme proposed by WJ to make GP more stable -2024/3/4\n",
    "\n",
    "    y_num, y_dimension = y_train.shape\n",
    "    Sigma = kernel(x_train, x_train) + log_beta.exp().pow(-1) * torch.eye(\n",
    "        x_train.size(0)) + JITTER * kernel(x_train, x_train).mean() * torch.eye(x_train.size(0))\n",
    "    \n",
    "    L = torch.linalg.cholesky(Sigma)\n",
    "    #option 1 (use this if torch supports)\n",
    "    Gamma,_ = torch.triangular_solve(y_train, L, upper = False)\n",
    "    #option 2\n",
    "    # gamma = L.inverse() @ Y       # we can use this as an alternative because L is a lower triangular matrix.\n",
    "\n",
    "    nll =  0.5 * (Gamma ** 2).sum() +  L.diag().log().sum() * y_dimension  \\\n",
    "        + 0.5 * y_num * torch.log(2 * torch.tensor(PI)) * y_dimension\n",
    "    return -nll"
   ]
  },
  {
   "cell_type": "markdown",
   "metadata": {},
   "source": [
    "### 2.2 采用更加稳定的GP底层 比如cigp_v10\n",
    "### 2.3 采用合适的数据标准化或者归一化方法\n",
    "### 2.4 查看数据中是否有比较偏移均值的点根据实际情况看要不要进行数据剔除\n",
    "### 2.5 采用log看训练参数以及打印非正定矩阵，肉眼分析问题"
   ]
  }
 ],
 "metadata": {
  "kernelspec": {
   "display_name": "water",
   "language": "python",
   "name": "python3"
  },
  "language_info": {
   "name": "python",
   "version": "3.6.13"
  }
 },
 "nbformat": 4,
 "nbformat_minor": 2
}
