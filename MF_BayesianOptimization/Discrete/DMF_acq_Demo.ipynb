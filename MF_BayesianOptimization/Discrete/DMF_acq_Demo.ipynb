{
 "cells": [
  {
   "cell_type": "code",
   "execution_count": 1,
   "metadata": {},
   "outputs": [
    {
     "name": "stderr",
     "output_type": "stream",
     "text": [
      "C:\\Users\\Fillip\\AppData\\Roaming\\Python\\Python36\\site-packages\\tqdm\\auto.py:22: TqdmWarning: IProgress not found. Please update jupyter and ipywidgets. See https://ipywidgets.readthedocs.io/en/stable/user_install.html\n",
      "  from .autonotebook import tqdm as notebook_tqdm\n"
     ]
    },
    {
     "name": "stdout",
     "output_type": "stream",
     "text": [
      "1.10.2\n"
     ]
    },
    {
     "data": {
      "text/plain": [
       "<torch._C.Generator at 0x19241fbbd08>"
      ]
     },
     "execution_count": 1,
     "metadata": {},
     "output_type": "execute_result"
    }
   ],
   "source": [
    "import torch\n",
    "import sys\n",
    "import os\n",
    "# os.chdir(os.path.dirname(os.path.realpath(\".\")) + '/FidelityFusion')\n",
    "os.chdir(os.path.dirname(os.path.dirname(os.path.realpath(\".\"))))\n",
    "# sys.path.append(os.path.abspath(os.path.join(os.path.dirname(__file__), '..', '..')))\n",
    "\n",
    "import GaussianProcess.kernel as kernel\n",
    "from FidelityFusion_Models import *\n",
    "from FidelityFusion_Models.MF_data import MultiFidelityDataManager\n",
    "from DMF_acq import *\n",
    "torch.manual_seed(1)"
   ]
  },
  {
   "cell_type": "markdown",
   "metadata": {},
   "source": [
    "# Define a Simple Two fidelity objective function\n",
    "This is a very simple two fidelity sample, named as 'Non Linear Sin' function.\n",
    "\\begin{aligned}\n",
    "    f_{low}(x) &= \\sin(8\\pi x),\\\\\n",
    "    f_{high}(x) &= (x - \\sqrt{2})f_{low}(x)^2.\\\\\n",
    "\\end{aligned}\n",
    "\n",
    "We use this objective function to generate a small size training data set, with 8 low-fidleity samples and 4 high-fidelity training samples under the non-subset assumption.\n",
    "\n",
    "To be mentioned, the fidelity indicator starts from 0, which means 0 represents low-fidleity and 1 stands for high-fidleity."
   ]
  },
  {
   "cell_type": "code",
   "execution_count": 2,
   "metadata": {},
   "outputs": [],
   "source": [
    "def objective_function(x, s):\n",
    "    xtr = x\n",
    "    if s == 0:\n",
    "        Ytr = torch.sin(xtr * 8 * torch.pi)\n",
    "    else:\n",
    "        Ytr_l = torch.sin(xtr * 8 * torch.pi)\n",
    "        Ytr = (xtr - torch.sqrt(torch.ones(xtr.shape[0])*2).reshape(-1, 1)) * torch.pow(Ytr_l, 2)\n",
    "    \n",
    "    return Ytr\n",
    "\n",
    "train_xl = torch.rand(8, 1) * 10\n",
    "train_xh = torch.rand(4, 1) * 10\n",
    "train_yl = objective_function(train_xl, 0)\n",
    "train_yh = objective_function(train_xh, 1)\n",
    "\n",
    "data_shape = [train_yl[0].shape, train_yh[0].shape]\n",
    "\n",
    "initial_data = [\n",
    "                    {'fidelity_indicator': 0,'raw_fidelity_name': '0', 'X': train_xl, 'Y': train_yl},\n",
    "                    {'fidelity_indicator': 1, 'raw_fidelity_name': '1','X': train_xh, 'Y': train_yh},\n",
    "                ]"
   ]
  },
  {
   "cell_type": "markdown",
   "metadata": {},
   "source": [
    "# Initialize the surrogate model: ResGP\n",
    "\n",
    "These part we use the simplest surrogate model ResGP as our MF model and train by the initiated training dataset. It can also be replaced by other MF model in FidelityFusion Models (i.e. AR, GAR)."
   ]
  },
  {
   "cell_type": "code",
   "execution_count": 3,
   "metadata": {},
   "outputs": [
    {
     "name": "stderr",
     "output_type": "stream",
     "text": [
      "d:\\ANACONDA\\envs\\water\\lib\\site-packages\\torch\\autograd\\__init__.py:156: UserWarning: CUDA initialization: CUDA driver initialization failed, you might not have a CUDA gpu. (Triggered internally at  ..\\c10\\cuda\\CUDAFunctions.cpp:112.)\n",
      "  allow_unreachable=True, accumulate_grad=True)  # allow_unreachable flag\n"
     ]
    },
    {
     "name": "stdout",
     "output_type": "stream",
     "text": [
      "fidelity 0, epoch 100/100, nll: 15.776910781860352\n",
      "fidelity 1, epoch 100/100, nll: 7.394228935241699\n"
     ]
    }
   ],
   "source": [
    "fidelity_manager = MultiFidelityDataManager(initial_data)\n",
    "fi_num = len(initial_data)\n",
    "kernel1 = [kernel.SquaredExponentialKernel(length_scale = 1., signal_variance = 1.) for _ in range(fi_num)]\n",
    "# model = AR(fidelity_num = fi_num, kernel_list = kernel1, rho_init=1.0, if_nonsubset=True)\n",
    "# train_AR(model, fidelity_manager, max_iter=100, lr_init=1e-3)\n",
    "model = ResGP(fidelity_num = fi_num, kernel_list = kernel1, if_nonsubset=True)\n",
    "train_ResGP(model, fidelity_manager, max_iter=100, lr_init=1e-3)"
   ]
  },
  {
   "cell_type": "markdown",
   "metadata": {},
   "source": [
    "# Define the mean and variance functions for acq function\n",
    "The defined mean and variance functions extract the predictive mean and variance from the trained surrogate model (model) when provided with input points (x) and fidelity indicator (s). \n",
    "These functions are crucial components in the computation of acquisition functions, such as the Upper Confidence Bound (UCB), and are used to guide the selection of the next point for evaluation in the Bayesian optimization process."
   ]
  },
  {
   "cell_type": "code",
   "execution_count": 4,
   "metadata": {},
   "outputs": [],
   "source": [
    "def mean_function(x, s):\n",
    "    mean, _ = model.forward(fidelity_manager, x, s)\n",
    "    return mean.reshape(-1, 1)\n",
    "    \n",
    "def variance_function(x, s):\n",
    "    _, variance = model.forward(fidelity_manager, x, s)\n",
    "    return variance"
   ]
  },
  {
   "cell_type": "markdown",
   "metadata": {},
   "source": [
    "# Initialize and optimize MF_acq function\n",
    "\n",
    "In this section, we initiate a sample for MF discrete acquistion function. According to the different acq, there is a little different between the initiate parameter setting.\n",
    "If want to use the KG/EI/PI acq, need specify the current best function (f_best) when initiate. But UCB do not need the f_best when initiating.\n",
    "\n",
    "Then we use the Opitmizer to find the new_x and use different selection strategy to select next_s."
   ]
  },
  {
   "cell_type": "code",
   "execution_count": 5,
   "metadata": {},
   "outputs": [
    {
     "name": "stdout",
     "output_type": "stream",
     "text": [
      "iter 0 x: Parameter containing:\n",
      "tensor([[0.6926]], requires_grad=True) Negative Acquisition Function: -0.04308997839689255\n",
      "iter 1 x: Parameter containing:\n",
      "tensor([[0.7026]], requires_grad=True) Negative Acquisition Function: -0.044691674411296844\n",
      "iter 2 x: Parameter containing:\n",
      "tensor([[0.7126]], requires_grad=True) Negative Acquisition Function: -0.046312153339385986\n",
      "iter 3 x: Parameter containing:\n",
      "tensor([[0.7226]], requires_grad=True) Negative Acquisition Function: -0.04795657843351364\n",
      "iter 4 x: Parameter containing:\n",
      "tensor([[0.7327]], requires_grad=True) Negative Acquisition Function: -0.04963055998086929\n",
      "iter 5 x: Parameter containing:\n",
      "tensor([[0.7427]], requires_grad=True) Negative Acquisition Function: -0.051328860223293304\n",
      "iter 6 x: Parameter containing:\n",
      "tensor([[0.7528]], requires_grad=True) Negative Acquisition Function: -0.053044334053993225\n",
      "iter 7 x: Parameter containing:\n",
      "tensor([[0.7628]], requires_grad=True) Negative Acquisition Function: -0.054792992770671844\n",
      "iter 8 x: Parameter containing:\n",
      "tensor([[0.7729]], requires_grad=True) Negative Acquisition Function: -0.056561291217803955\n",
      "iter 9 x: Parameter containing:\n",
      "tensor([[0.7830]], requires_grad=True) Negative Acquisition Function: -0.0583600178360939\n",
      "iter 0 x: Parameter containing:\n",
      "tensor([[0.3151]], requires_grad=True) Negative Acquisition Function: -0.27350664138793945\n",
      "iter 1 x: Parameter containing:\n",
      "tensor([[0.3252]], requires_grad=True) Negative Acquisition Function: -0.275976300239563\n",
      "iter 2 x: Parameter containing:\n",
      "tensor([[0.3352]], requires_grad=True) Negative Acquisition Function: -0.27844828367233276\n",
      "iter 3 x: Parameter containing:\n",
      "tensor([[0.3452]], requires_grad=True) Negative Acquisition Function: -0.2809264063835144\n",
      "iter 4 x: Parameter containing:\n",
      "tensor([[0.3552]], requires_grad=True) Negative Acquisition Function: -0.28340405225753784\n",
      "iter 5 x: Parameter containing:\n",
      "tensor([[0.3652]], requires_grad=True) Negative Acquisition Function: -0.28589850664138794\n",
      "iter 6 x: Parameter containing:\n",
      "tensor([[0.3752]], requires_grad=True) Negative Acquisition Function: -0.2883898615837097\n",
      "iter 7 x: Parameter containing:\n",
      "tensor([[0.3852]], requires_grad=True) Negative Acquisition Function: -0.2908915579319\n",
      "iter 8 x: Parameter containing:\n",
      "tensor([[0.3952]], requires_grad=True) Negative Acquisition Function: -0.2933991551399231\n",
      "iter 9 x: Parameter containing:\n",
      "tensor([[0.4052]], requires_grad=True) Negative Acquisition Function: -0.2959113121032715\n",
      "tensor([[0.4052]]) 1\n"
     ]
    }
   ],
   "source": [
    "acq = DiscreteAcquisitionFunction(mean_function, variance_function, 2, train_xl.shape[1], torch.ones(1).reshape(-1, 1))\n",
    "\n",
    "# Use Opitmizer to find the new_x\n",
    "new_x = optimize_acq_mf(fidelity_manager, acq, 'UCB', 10, 0.01) \n",
    "# Use different selection strategy to select next_s\n",
    "new_s = acq.acq_selection_fidelity(gamma=[0.1, 0.1], new_x=new_x)\n",
    "print(new_x, new_s)"
   ]
  }
 ],
 "metadata": {
  "kernelspec": {
   "display_name": "GP",
   "language": "python",
   "name": "python3"
  },
  "language_info": {
   "codemirror_mode": {
    "name": "ipython",
    "version": 3
   },
   "file_extension": ".py",
   "mimetype": "text/x-python",
   "name": "python",
   "nbconvert_exporter": "python",
   "pygments_lexer": "ipython3",
   "version": "3.6.13"
  }
 },
 "nbformat": 4,
 "nbformat_minor": 2
}
