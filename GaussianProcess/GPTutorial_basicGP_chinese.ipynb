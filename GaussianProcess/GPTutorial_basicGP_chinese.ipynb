{
 "cells": [
  {
   "cell_type": "markdown",
   "id": "b43613e7",
   "metadata": {},
   "source": [
    "# GP 教程-E02: 一小时上手的简单GP\n",
    "作者: Wei W. Xing (wxing.me) <br />\n",
    "翻译: Yuxin Wang\n",
    "日期: 2022-03-28    <br />\n",
    "\n",
    "摘要: 现如今高斯过程已经是一个长期存在并且广泛被应用的技术，并且也有很多有用的教程、课本、文章以及博客，但是我发现很多学生（包括学生时代的我）都曾经在将GP应用到实际问题这个过程中碰壁。我认为学会一个东西最简单的方法就是应用它而不是准备很多必要的数学背景或者深入理论。因此我准写了这篇教程，希望可以用一种比较直接的方式来应用GP这个技术，尤其是为了工科的学生们。希望这篇教程能有所帮助。"
   ]
  },
  {
   "cell_type": "markdown",
   "id": "927ed342",
   "metadata": {},
   "source": [
    "在这篇教程中，我们希望可以考虑最简单的一维输出的例子，也就是，$y \\in \\mathcal{R}^1$，是一维标量。相对应的\n",
    "$\\mathcal{x} \\in \\mathcal{R}^D$，输入的是一个D维的向量。\n",
    "那么让我们开始吧～ 由于这篇应用是基于Torch开发的，所以我们将从导入Torch库作为开端。"
   ]
  },
  {
   "cell_type": "code",
   "execution_count": 325,
   "id": "50c77362",
   "metadata": {},
   "outputs": [
    {
     "name": "stdout",
     "output_type": "stream",
     "text": [
      "1.11.0\n"
     ]
    }
   ],
   "source": [
    "import torch\n",
    "import torch.nn as nn\n",
    "import numpy as np\n",
    "from matplotlib import pyplot as plt\n",
    "import os\n",
    "# from torch.autograd import Variable\n",
    "\n",
    "print(torch.__version__)\n",
    "# I use torch (1.11.0) for this work. lower version may not work.\n",
    "\n",
    "os.environ['KMP_DUPLICATE_LIB_OK'] = 'True' # Fixing strange error if run in MacOS \n",
    "\n",
    "JITTER = 1e-6\n",
    "EPS = 1e-10\n",
    "PI = 3.1415"
   ]
  },
  {
   "cell_type": "markdown",
   "id": "9e8d3d8c",
   "metadata": {},
   "source": [
    "#### 1. 生成综合数据\n",
    "将$y = (6x-2)^2sin(12x-4)$作为我们的目标拟合函数。我们将需要产生包含32组样本点的训练数据集$xtr, ytr$ 以及包含100组数据的测试数据集$xte, yte$ 。"
   ]
  },
  {
   "cell_type": "code",
   "execution_count": 328,
   "id": "7692b6d6",
   "metadata": {},
   "outputs": [
    {
     "name": "stdout",
     "output_type": "stream",
     "text": [
      "xtr.size: torch.Size([32, 1]) ytr.size: torch.Size([32, 1])\n",
      "xte.size: torch.Size([100, 1]) yte.size: torch.Size([100, 1])\n"
     ]
    },
    {
     "data": {
      "image/png": "[encoded data removed]",
      "text/plain": [
       "<Figure size 432x288 with 1 Axes>"
      ]
     },
     "metadata": {
      "needs_background": "light"
     },
     "output_type": "display_data"
    }
   ],
   "source": [
    "#train_set\n",
    "xtr = torch.rand(32, 1)\n",
    "ytr = ((6*xtr - 2)**2) * torch.sin(12*xtr - 4) + torch.randn(32, 1) * 1\n",
    "\n",
    "#test_set\n",
    "xte = torch.linspace(0, 1, 100).view(-1,1)\n",
    "yte = ((6*xte - 2)**2) * torch.sin(12*xte - 4)\n",
    "\n",
    "#plot the data\n",
    "print(\"xtr.size:\", xtr.size(), \"ytr.size:\", ytr.size())\n",
    "print(\"xte.size:\", xte.size(), \"yte.size:\", yte.size())\n",
    "plt.plot(xtr.numpy(), ytr.numpy(), 'b+')\n",
    "plt.plot(xte.numpy(), yte.numpy(), 'r-', alpha = 0.5)\n",
    "plt.show()"
   ]
  },
  {
   "cell_type": "markdown",
   "id": "e32aeed6",
   "metadata": {},
   "source": [
    "#### 2. 核函数以及模型参数（超参数）"
   ]
  },
  {
   "cell_type": "markdown",
   "id": "5a97c038",
   "metadata": {},
   "source": [
    "我们需要优化的函数是：均值函数以及核函数。但是优化一个“函数”并不是就想所说的那么简单， 因此我们需要给丁这些函数的特定形式，之后再去优化他们的参数。在这篇教程中，我们设定均值函数为零（不需要优化均值函数）。而核函数部分，我们使用最常用的automatic relevance determinant（ARD）核函数：\n",
    "$$k_{ard}(\\mathbf{x}, \\mathbf{x}') = a \\cdot \\exp(-\\frac{1}{2} \\sum_{d=1}^D{ (\\frac{x_d-x'_d}{l_d}})^2 )$$\n",
    "其中$a$是核函数的振幅，$l_d$是输入变量$x$的d维输入${x}_d$的长度系数（length scale）。$\\mathbf{l}$ 控制着每个输入维度的贡献量，比如：$l_d$数值越大，则${x}_d$相比于其他维度在系统中的贡献越大；反之亦然。因此，这个函数被称为ARD，即可以自动控制相关性。 <br />\n",
    "\n",
    "在开始编程之前还有另一件事情需要注意，$l_d$和$a$均为正参数。所以如果我们直接将他们定义为torch中的参数torch.parameters，则在优化过程中有可能导致$l_d$和$a$被计算成负数。因此我们需要特别注意确保$l_d$和$a$在过程中为正数。一个简单的方法就是，用他们取log之后的值来定义，而使用的时候再将其转换为其指数值。 <br />\n",
    "\n",
    " 那么现在我们可以定义核函数了，其返回值为输入两组数据的一个核矩阵。"
   ]
  },
  {
   "cell_type": "code",
   "execution_count": 329,
   "id": "2190321a",
   "metadata": {},
   "outputs": [],
   "source": [
    "# define kernel parameters\n",
    "log_length_scale = nn.Parameter(torch.zeros(xte.size(1)))\n",
    "log_scale = nn.Parameter(torch.zeros(1))\n"
   ]
  },
  {
   "cell_type": "code",
   "execution_count": 330,
   "id": "019a10f8",
   "metadata": {},
   "outputs": [
    {
     "name": "stdout",
     "output_type": "stream",
     "text": [
      "tensor([[1.0000, 0.8818, 0.8822,  ..., 0.8488, 0.9189, 0.9803],\n",
      "        [0.8818, 1.0000, 1.0000,  ..., 0.9975, 0.9959, 0.7820],\n",
      "        [0.8822, 1.0000, 1.0000,  ..., 0.9974, 0.9960, 0.7826],\n",
      "        ...,\n",
      "        [0.8488, 0.9975, 0.9974,  ..., 1.0000, 0.9870, 0.7421],\n",
      "        [0.9189, 0.9959, 0.9960,  ..., 0.9870, 1.0000, 0.8298],\n",
      "        [0.9803, 0.7820, 0.7826,  ..., 0.7421, 0.8298, 1.0000]],\n",
      "       grad_fn=<MulBackward0>)\n"
     ]
    }
   ],
   "source": [
    "def kernel(X1, X2, log_length_scale, log_scale): \n",
    "    length_scale = torch.exp(log_length_scale)\n",
    "    K = torch.zeros(X1.size(0), X2.size(0))\n",
    "    \n",
    "    for i in range(X1.size(0)):\n",
    "        for j in range(X2.size(0)):\n",
    "            for d in range(X1.size(1)):\n",
    "                K[i,j] = torch.exp(-0.5 * ((X1[i,d] - X2[j,d])**2 / length_scale[d]**2).sum() ) * torch.exp(log_scale)\n",
    "    return log_scale.exp() * K\n",
    "\n",
    "K1 = kernel(xtr, xtr, log_length_scale, log_scale)\n",
    "print(K1)"
   ]
  },
  {
   "cell_type": "markdown",
   "id": "1d0cd531",
   "metadata": {},
   "source": [
    "然而，在编程过程中我们应该尽可能的避免使用循环结构，这是以内循环会导致消耗大量的内存以及时间。因此我们将用另一种方法来撰写核函数。"
   ]
  },
  {
   "cell_type": "code",
   "execution_count": 331,
   "id": "c88c4cbc",
   "metadata": {},
   "outputs": [
    {
     "name": "stdout",
     "output_type": "stream",
     "text": [
      "tensor([[1.0000, 0.8818, 0.8822,  ..., 0.8488, 0.9189, 0.9803],\n",
      "        [0.8818, 1.0000, 1.0000,  ..., 0.9975, 0.9959, 0.7820],\n",
      "        [0.8822, 1.0000, 1.0000,  ..., 0.9974, 0.9960, 0.7826],\n",
      "        ...,\n",
      "        [0.8488, 0.9975, 0.9974,  ..., 1.0000, 0.9870, 0.7421],\n",
      "        [0.9189, 0.9959, 0.9960,  ..., 0.9870, 1.0000, 0.8298],\n",
      "        [0.9803, 0.7820, 0.7826,  ..., 0.7421, 0.8298, 1.0000]],\n",
      "       grad_fn=<MulBackward0>)\n",
      "tensor(5.7789e-07, grad_fn=<CopyBackwards>)\n"
     ]
    }
   ],
   "source": [
    "def kernel(X1, X2, log_length_scale, log_scale): # 定义核函数没有加linear\n",
    "\n",
    "    X1 = X1 / log_length_scale.exp()**2\n",
    "    X2 = X2 / log_length_scale.exp()**2\n",
    "\n",
    "    X1_norm2 = X1 * X1\n",
    "    X2_norm2 = X2 * X2\n",
    "\n",
    "    K = -2.0 * X1 @ X2.t() + X1_norm2.expand(X1.size(0), X2.size(0)) + X2_norm2.t().expand(X1.size(0), X2.size(0))  #this is the effective Euclidean distance matrix between X1 and X2.\n",
    "    K = log_scale.exp() * torch.exp(-0.5 * K)\n",
    "    return K\n",
    "\n",
    "K2 = kernel(xtr, xtr, log_length_scale, log_scale)\n",
    "print(K2)\n",
    "print( (K1 - K2).norm() )"
   ]
  },
  {
   "cell_type": "markdown",
   "id": "aecf0429",
   "metadata": {},
   "source": [
    "我们可以看到两个核函数的结果是相通的，然而执行的时间却又很大的不同，我们还可以将训练数据的样本量增大来验证这种差异。    <br />\n",
    "\n",
    "此外，我们还需要定义GP中的噪声$\\sigma^2$。为了能够更简单地在今后的教程中介绍共轭先验只是，我们选择使用$\\sigma^2$的逆$\\beta=1/\\sigma^2$来定义噪声，而不是直接定义$\\sigma^2$，并且与长度系数核振幅相同，我们也需要确保噪声的值恒为正数。"
   ]
  },
  {
   "cell_type": "code",
   "execution_count": 332,
   "id": "34dba8e3",
   "metadata": {},
   "outputs": [],
   "source": [
    "log_beta = nn.Parameter(torch.ones(1) * -4) # this is a large noise. we optimize to shrink it to a proper value. "
   ]
  },
  {
   "cell_type": "markdown",
   "id": "932c072b",
   "metadata": {},
   "source": [
    "#### 3. 似然函数的负对数（negative log likelihood）\n",
    "对于大部分回归问题，我们需要对已定义好的损失函数求最小值。那么在GP中，损失函数就是似然函数值的负对数。\n",
    "\n",
    "因为我们需要对损失函数最小化，所以我们选择将似然函数取对数后再取相反数，并且由于似然函数值的对数有更为清晰的形式，并且不改变函数的单调性，所以对似然函数值取对数。\n",
    "\n",
    "似然函数的负对数形式为：\n",
    "$$L=-\\frac{1}{2}\\mathbf{y}^T (\\mathbf{K}+\\sigma^2 \\mathbf{I})^{-1}\\mathbf{y}-\\frac{1}{2}\\log(|\\mathbf{K}+\\sigma^2 \\mathbf{I}|)-\\frac{n}{2}log(2\\pi)$$\n",
    "其中$\\mathbf{y}$是将观测数据按照$N\\times1$向量形式排列，$\\mathbf{K}$是训练数据的大小为N\\times N$的核矩阵。$\\sigma^2$是噪声方差，并且$\\mathbf{I}$是单位矩阵。\n",
    "\n",
    "接下来我们用$\\mathbf{\\Sigma}=\\mathbf{K}+\\sigma^2 \\mathbf{I}$来代替核矩阵的逆，则损失函数可以写为：\n",
    "$$nll=\\frac{1}{2}\\mathbf{y}^T\\mathbf{\\Sigma}^{-1}\\mathbf{y}+\\frac{1}{2}\\log(|\\mathbf{\\Sigma}|)+\\frac{n}{2}log(2\\pi)$$\n",
    "\n",
    "我们虽然可以利用以后的损失函数值直接进行计算以及优化，但是由于求维度较高的矩阵的逆同样会十分占用时间与内存，因此，我们应该避免这种计算，而此采用另一个技巧（Cholesky 分解）来更佳高效稳定的计算。\n",
    "\n",
    "首先，计算核矩阵的cholesky分解：\n",
    "$\\mathbf{\\Sigma} = \\mathbf{L} \\mathbf{L}^T$\n",
    "所以在似然函数的负对数表达式中的第一项，可以推导为：\n",
    "$$ \\mathbf{y}^T (\\mathbf{K}+\\sigma^2 \\mathbf{I})^{-1}\\mathbf{y} = \\mathbf{y}^T (\\mathbf{L} \\mathbf{L}^T)^{-1} \\mathbf{y} = \\mathbf{y}^T \\mathbf{L}^{-T} \\mathbf{L}^{-1} \\mathbf{y}  = (\\mathbf{L}^{-1} \\mathbf{y})^T \\mathbf{L}^{-1} \\mathbf{y}  $$\n",
    "这个公式让我们通过解一个线性方程组的方式，$\\mathbf{L} \\mathbf{\\gamma} = \\mathbf{y}$，避免了矩阵求逆所带来的资源的浪费，并且给出了$\\mathbf{L}^{-1} \\mathbf{y} = \\mathbf{\\gamma}$。所以如果我们获得了$\\mathbf{\\gamma}$，我们就能够计算表达式中的第一项，也就是$\\mathbf{\\gamma}$的二范数。\n",
    "\n",
    "之后我们可以计算损失函数表达式中的第二项，即\n",
    "$$ \\log(|\\mathbf{\\Sigma}|) = \\log(| \\mathbf{L} \\mathbf{L}^T |) =  \\log(|\\mathbf{L}| |\\mathbf{L}^T|) = \\log(\\prod_{i=1}^{N} L_{ii} \\prod_{i=1}^{N} L_{ii}) = 2\\sum_{i=1}^{N}\\log(L_{ii})$$\n",
    "\n",
    "在经过了以上两个部分之后，损失函数可以表达为：\n",
    "$$nll=\\frac{1}{2} \\mathbf{\\gamma}^T \\mathbf{\\gamma} + \\sum_{i=1}^{N}\\log(L_{ii}) + \\frac{n}{2}log(2\\pi)$$\n",
    "\n",
    "那么接下来，我们一起将这个过程用代码表达出来。"
   ]
  },
  {
   "cell_type": "code",
   "execution_count": 333,
   "id": "f3b4cd69",
   "metadata": {},
   "outputs": [],
   "source": [
    "def negative_log_likelihood(X, Y, log_length_scale, log_scale, log_beta):\n",
    "    y_num = Y.size(0)\n",
    "    Sigma = kernel(X, X, log_length_scale, log_scale) + log_beta.exp().pow(-1) * torch.eye(X.size(0)) + JITTER * torch.eye(X.size(0))   # add JITTER here to avoid singularity\n",
    "    \n",
    "    L = torch.linalg.cholesky(Sigma)\n",
    "    #option 1 (use this if torch supports)\n",
    "    gamma,_ = torch.triangular_solve(Y, L, upper = False)\n",
    "    #option 2\n",
    "    # gamma = L.inverse() @ Y       # we can use this as an alternative because L is a lower triangular matrix.\n",
    "    \n",
    "    nll =  0.5 * (gamma ** 2).sum() +  L.diag().log().sum()  + 0.5 * y_num * torch.log(2 * torch.tensor(PI))\n",
    "    return nll"
   ]
  },
  {
   "cell_type": "markdown",
   "id": "0dd16b4d",
   "metadata": {},
   "source": [
    "#### 4. 调用优化器\n",
    "当损失函数，也就是似然函数的负对数定义好之后，我们可以很简单地通过调用优化器来最小化损失函数值。"
   ]
  },
  {
   "cell_type": "code",
   "execution_count": 334,
   "id": "28a06a7a",
   "metadata": {},
   "outputs": [
    {
     "name": "stdout",
     "output_type": "stream",
     "text": [
      "iter 0 nnl:98.92683\n",
      "iter 1 nnl:98.81974\n",
      "iter 2 nnl:98.71318\n",
      "iter 3 nnl:98.60717\n",
      "iter 4 nnl:98.50172\n"
     ]
    },
    {
     "name": "stderr",
     "output_type": "stream",
     "text": [
      "/var/folders/1c/tvl_lkvd0gx7ctzbq78mps740000gn/T/ipykernel_1623/792720278.py:7: UserWarning: torch.triangular_solve is deprecated in favor of torch.linalg.solve_triangularand will be removed in a future PyTorch release.\n",
      "torch.linalg.solve_triangular has its arguments reversed and does not return a copy of one of the inputs.\n",
      "X = torch.triangular_solve(B, A).solution\n",
      "should be replaced with\n",
      "X = torch.linalg.solve_triangular(A, B). (Triggered internally at  /Users/distiller/project/conda/conda-bld/pytorch_1646756029501/work/aten/src/ATen/native/BatchLinearAlgebra.cpp:1672.)\n",
      "  gamma,_ = torch.triangular_solve(Y, L, upper = False)\n"
     ]
    }
   ],
   "source": [
    "def train_adam(X, Y, log_length_scale, log_scale, log_beta, niter = 50, lr = 0.001):\n",
    "    optimizer = torch.optim.Adam([log_beta, log_length_scale, log_scale], lr = lr)\n",
    "    optimizer.zero_grad()\n",
    "    for i in range(niter):\n",
    "        optimizer.zero_grad()\n",
    "        # self.update()\n",
    "        loss = negative_log_likelihood(X, Y, log_length_scale, log_scale, log_beta)\n",
    "        loss.backward()\n",
    "        optimizer.step()\n",
    "\n",
    "        # print the nll\n",
    "        # print('iter', i, ' nnl:', loss.item())\n",
    "        print('iter', i, 'nnl:{:.5f}'.format(loss.item()))\n",
    "        # print the likelihood\n",
    "        # print('iter', i, 'nnl:{:.5f}'.format(loss.item()),'likelihood:{:.9f}'.format((-loss).exp().item()) )\n",
    "        \n",
    "train_adam(xtr, ytr,log_length_scale, log_scale, log_beta, 5, 0.01)"
   ]
  },
  {
   "cell_type": "markdown",
   "id": "0dd16b4d",
   "metadata": {},
   "source": [
    "#### 5. 预测 Predictive Prosterior "
   ]
  },
  {
   "cell_type": "markdown",
   "id": "1458b3b3",
   "metadata": {},
   "source": [
    "当超参数优化完毕之后，我们可以根据如下的公式对预测后验分布进行计算：\n",
    "\\begin{aligned}\n",
    "&\\mu=\\mathbf{k}^* \\Sigma^{-1} \\mathbf{y}\\\\\n",
    "&s^2=\\mathbf{k}_{**}- (\\mathbf{k}^*)^T \\mathbf{\\Sigma}^{-1} \\mathbf{k}^* + {1}/{\\beta}\\\\\n",
    "\\end{aligned}\n",
    "如上文我们所提到的一样，我们应该尽可能的避免计算矩阵的逆。所以我们将再次次啊用cholesky分解以获得预测后验。\n",
    "\n",
    "首先我们定义 $\\mathbf{\\Sigma}^{-1} \\mathbf{y} =  \\mathbf{\\alpha}$，这个方法经常在文献和开放源代码中使用。引入 $\\mathbf{\\alpha}$ 的优点是：<br />\n",
    "1）我们可以使用cholesky分解计算预测后验；<br />\n",
    "2）节省内存并提供更快去的后验预测（不需要计算逆矩阵）<br />\n",
    "通过使用 $\\mathbf{L}$ 以获得 $\\mathbf{\\alpha}$, 我们首先解决了 $\\mathbf{L} \\mathbf{\\gamma} = \\mathbf{y}$，之后在计算 $\\mathbf{L}^T \\mathbf{y} = \\mathbf{\\gamma}$, 如你所见，有时会写成一种简洁的形式\n",
    "$$\\mathbf{\\alpha} = \\mathbf{L}^T \\backslash \\mathbf{L} \\backslash \\mathbf{y}$$\n",
    "\n",
    "$(\\mathbf{k}^*)^T \\mathbf{\\Sigma}^{-1} \\mathbf{k}^*$ 的计算则很类似 $\\mathbf{\\gamma}^T \\mathbf{\\gamma}$ 在之前提到的计算。"
   ]
  },
  {
   "cell_type": "code",
   "execution_count": 335,
   "id": "c2a7a68e",
   "metadata": {},
   "outputs": [],
   "source": [
    "def forward(X, Xte, log_length_scale, log_scale, log_beta, Y):\n",
    "    n_test = Xte.size(0)\n",
    "    Sigma = kernel(X, X, log_length_scale, log_scale) + log_beta.exp().pow(-1) * torch.eye(\n",
    "        X.size(0)) + JITTER * torch.eye(X.size(0))\n",
    "    kx = kernel(X, Xte, log_length_scale, log_scale)\n",
    "    L = torch.cholesky(Sigma)\n",
    "    \n",
    "    # option 1\n",
    "    mean = kx.t() @ torch.cholesky_solve(Y, L)  # torch.linalg.cholesky()\n",
    "    # option 2\n",
    "    # mean = kx @ torch.L.t().inverse() @ L.inverse() @ Y\n",
    "    \n",
    "    # LinvKx = L.inverse() @ kx.t()  # TODO: the inverse for L should be cheap. check this.\n",
    "        # torch.cholesky_solve(kx.t(), L)\n",
    "    LinvKx,_ = torch.triangular_solve(kx, L, upper = False)\n",
    "    # option 1, standard way\n",
    "    # var_diag = kernel(Xte, Xte, log_length_scale, log_scale).diag().view(-1,1) - (LinvKx.t() @ LinvKx).diag().view(-1, 1)\n",
    "    # option 2, a faster way\n",
    "    var_diag = log_scale.exp().expand(n_test, 1) - (LinvKx**2).sum(dim = 0).view(-1, 1)\n",
    "    \n",
    "    var_diag = var_diag + log_beta.exp().pow(-1)\n",
    "    return mean, var_diag"
   ]
  },
  {
   "cell_type": "markdown",
   "id": "552b00a1",
   "metadata": {},
   "source": [
    "#### 5. 测试与验证\n",
    "我们将在综合数据集上应用GP模型，并将结果可视化。"
   ]
  },
  {
   "cell_type": "code",
   "execution_count": 336,
   "id": "5c1078f3",
   "metadata": {},
   "outputs": [
    {
     "name": "stdout",
     "output_type": "stream",
     "text": [
      "iter 0 nnl:98.39685\n",
      "iter 1 nnl:97.37747\n",
      "iter 2 nnl:96.41883\n",
      "iter 3 nnl:95.52733\n",
      "iter 4 nnl:94.70923\n",
      "iter 5 nnl:93.97037\n",
      "iter 6 nnl:93.31531\n",
      "iter 7 nnl:92.74599\n",
      "iter 8 nnl:92.26025\n",
      "iter 9 nnl:91.85065\n",
      "iter 10 nnl:91.50645\n",
      "iter 11 nnl:91.22240\n",
      "iter 12 nnl:91.00239\n",
      "iter 13 nnl:90.85133\n",
      "iter 14 nnl:90.76448\n",
      "iter 15 nnl:90.71980\n",
      "iter 16 nnl:90.67075\n",
      "iter 17 nnl:90.56546\n",
      "iter 18 nnl:90.37701\n",
      "iter 19 nnl:90.10687\n",
      "iter 20 nnl:89.77715\n",
      "iter 21 nnl:89.42031\n",
      "iter 22 nnl:89.06197\n",
      "iter 23 nnl:88.69340\n",
      "iter 24 nnl:88.26817\n",
      "iter 25 nnl:87.75721\n",
      "iter 26 nnl:87.17449\n",
      "iter 27 nnl:86.55086\n",
      "iter 28 nnl:85.90622\n",
      "iter 29 nnl:85.22861\n",
      "iter 30 nnl:84.47752\n",
      "iter 31 nnl:83.62363\n",
      "iter 32 nnl:82.67659\n",
      "iter 33 nnl:81.67014\n",
      "iter 34 nnl:80.63303\n",
      "iter 35 nnl:79.56720\n",
      "iter 36 nnl:78.46116\n",
      "iter 37 nnl:77.33095\n",
      "iter 38 nnl:76.21922\n",
      "iter 39 nnl:75.14931\n",
      "iter 40 nnl:74.10738\n",
      "iter 41 nnl:73.08061\n",
      "iter 42 nnl:72.08888\n",
      "iter 43 nnl:71.16967\n",
      "iter 44 nnl:70.33407\n",
      "iter 45 nnl:69.55012\n",
      "iter 46 nnl:68.83035\n",
      "iter 47 nnl:68.22169\n",
      "iter 48 nnl:67.71036\n",
      "iter 49 nnl:67.27732\n"
     ]
    },
    {
     "data": {
      "image/png": "[encoded data removed]",
      "text/plain": [
       "<Figure size 432x288 with 1 Axes>"
      ]
     },
     "metadata": {
      "needs_background": "light"
     },
     "output_type": "display_data"
    }
   ],
   "source": [
    "train_adam(xtr, ytr, log_length_scale, log_scale, log_beta, 50, 0.1)\n",
    "with torch.no_grad():\n",
    "    ypred, yvar = forward(xtr, xte, log_length_scale, log_scale, log_beta, ytr)\n",
    "    \n",
    "plt.errorbar(xte.numpy().reshape(100), ypred.detach().numpy().reshape(100),\n",
    "             yerr=yvar.sqrt().squeeze().detach().numpy(), fmt='r-.', alpha=0.2)\n",
    "plt.plot(xtr.numpy(), ytr.numpy(), 'b+')\n",
    "plt.show()"
   ]
  }
 ],
 "metadata": {
  "kernelspec": {
   "display_name": "Python 3 (ipykernel)",
   "language": "python",
   "name": "python3"
  },
  "language_info": {
   "codemirror_mode": {
    "name": "ipython",
    "version": 3
   },
   "file_extension": ".py",
   "mimetype": "text/x-python",
   "name": "python",
   "nbconvert_exporter": "python",
   "pygments_lexer": "ipython3",
   "version": "3.9.7"
  }
 },
 "nbformat": 4,
 "nbformat_minor": 5
}
